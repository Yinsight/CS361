{
  "nbformat": 4,
  "nbformat_minor": 0,
  "metadata": {
    "colab": {
      "name": "cs361python.ipynb",
      "version": "0.3.2",
      "provenance": []
    },
    "kernelspec": {
      "name": "python3",
      "display_name": "Python 3"
    }
  },
  "cells": [
    {
      "metadata": {
        "id": "Gr7IjoszK85p",
        "colab_type": "text"
      },
      "cell_type": "markdown",
      "source": [
        "# Exercise 1"
      ]
    },
    {
      "metadata": {
        "id": "QeBJ5x1MCjAB",
        "colab_type": "code",
        "outputId": "75416cb3-1bf8-4123-ae8d-e6e370ef1821",
        "colab": {
          "base_uri": "https://localhost:8080/",
          "height": 34
        }
      },
      "cell_type": "code",
      "source": [
        "5/3"
      ],
      "execution_count": 0,
      "outputs": [
        {
          "output_type": "execute_result",
          "data": {
            "text/plain": [
              "1.6666666666666667"
            ]
          },
          "metadata": {
            "tags": []
          },
          "execution_count": 2
        }
      ]
    },
    {
      "metadata": {
        "id": "Dd8_mxM8Cng5",
        "colab_type": "code",
        "outputId": "cc59b122-2c88-4bb5-8282-ff0baeee462e",
        "colab": {
          "base_uri": "https://localhost:8080/",
          "height": 34
        }
      },
      "cell_type": "code",
      "source": [
        "5%3"
      ],
      "execution_count": 0,
      "outputs": [
        {
          "output_type": "execute_result",
          "data": {
            "text/plain": [
              "2"
            ]
          },
          "metadata": {
            "tags": []
          },
          "execution_count": 36
        }
      ]
    },
    {
      "metadata": {
        "id": "SJ9QC4vdCqGb",
        "colab_type": "code",
        "outputId": "c208deca-29e6-4642-fabf-2dba40ad8101",
        "colab": {
          "base_uri": "https://localhost:8080/",
          "height": 34
        }
      },
      "cell_type": "code",
      "source": [
        "5.0/3"
      ],
      "execution_count": 0,
      "outputs": [
        {
          "output_type": "execute_result",
          "data": {
            "text/plain": [
              "1.6666666666666667"
            ]
          },
          "metadata": {
            "tags": []
          },
          "execution_count": 6
        }
      ]
    },
    {
      "metadata": {
        "id": "44P-JdUnCvih",
        "colab_type": "code",
        "outputId": "bf2dbd27-252f-493f-c2aa-a2a56006fa31",
        "colab": {
          "base_uri": "https://localhost:8080/",
          "height": 34
        }
      },
      "cell_type": "code",
      "source": [
        "5/3.0"
      ],
      "execution_count": 0,
      "outputs": [
        {
          "output_type": "execute_result",
          "data": {
            "text/plain": [
              "1.6666666666666667"
            ]
          },
          "metadata": {
            "tags": []
          },
          "execution_count": 7
        }
      ]
    },
    {
      "metadata": {
        "id": "xTNEtzxDCxJi",
        "colab_type": "code",
        "outputId": "4799cc87-c515-4f50-c955-1cdfe33c03dd",
        "colab": {
          "base_uri": "https://localhost:8080/",
          "height": 34
        }
      },
      "cell_type": "code",
      "source": [
        "5.2%3"
      ],
      "execution_count": 0,
      "outputs": [
        {
          "output_type": "execute_result",
          "data": {
            "text/plain": [
              "2.2"
            ]
          },
          "metadata": {
            "tags": []
          },
          "execution_count": 9
        }
      ]
    },
    {
      "metadata": {
        "id": "HzPSbX1TLDEx",
        "colab_type": "text"
      },
      "cell_type": "markdown",
      "source": [
        "# Exercise 2"
      ]
    },
    {
      "metadata": {
        "id": "1UzkJqFPCzGV",
        "colab_type": "code",
        "outputId": "97ec799d-458d-4e1a-d667-d2299a424446",
        "colab": {
          "base_uri": "https://localhost:8080/",
          "height": 162
        }
      },
      "cell_type": "code",
      "source": [
        "2000.3**200"
      ],
      "execution_count": 0,
      "outputs": [
        {
          "output_type": "error",
          "ename": "OverflowError",
          "evalue": "ignored",
          "traceback": [
            "\u001b[0;31m---------------------------------------------------------------------------\u001b[0m",
            "\u001b[0;31mOverflowError\u001b[0m                             Traceback (most recent call last)",
            "\u001b[0;32m<ipython-input-10-c94294570f03>\u001b[0m in \u001b[0;36m<module>\u001b[0;34m()\u001b[0m\n\u001b[0;32m----> 1\u001b[0;31m \u001b[0;36m2000.3\u001b[0m\u001b[0;34m**\u001b[0m\u001b[0;36m200\u001b[0m\u001b[0;34m\u001b[0m\u001b[0;34m\u001b[0m\u001b[0m\n\u001b[0m",
            "\u001b[0;31mOverflowError\u001b[0m: (34, 'Numerical result out of range')"
          ]
        }
      ]
    },
    {
      "metadata": {
        "id": "HJijfOSuD-al",
        "colab_type": "code",
        "outputId": "1b21a22c-6da9-4c5c-f2b6-7b648163b45b",
        "colab": {
          "base_uri": "https://localhost:8080/",
          "height": 34
        }
      },
      "cell_type": "code",
      "source": [
        "1.0+1.0-1.0"
      ],
      "execution_count": 0,
      "outputs": [
        {
          "output_type": "execute_result",
          "data": {
            "text/plain": [
              "1.0"
            ]
          },
          "metadata": {
            "tags": []
          },
          "execution_count": 11
        }
      ]
    },
    {
      "metadata": {
        "id": "IuPeHILoEXp5",
        "colab_type": "code",
        "outputId": "e5464922-2166-41b2-be9a-5ca99dd1c19a",
        "colab": {
          "base_uri": "https://localhost:8080/",
          "height": 34
        }
      },
      "cell_type": "code",
      "source": [
        "1.0+1.0e20-1.0e20"
      ],
      "execution_count": 0,
      "outputs": [
        {
          "output_type": "execute_result",
          "data": {
            "text/plain": [
              "0.0"
            ]
          },
          "metadata": {
            "tags": []
          },
          "execution_count": 13
        }
      ]
    },
    {
      "metadata": {
        "id": "tREy__CwLJzt",
        "colab_type": "text"
      },
      "cell_type": "markdown",
      "source": [
        "# Exercise 3"
      ]
    },
    {
      "metadata": {
        "id": "jjuezmTSEwUL",
        "colab_type": "code",
        "outputId": "399a1356-0b3d-4258-fbe0-1d8fb0cafff9",
        "colab": {
          "base_uri": "https://localhost:8080/",
          "height": 34
        }
      },
      "cell_type": "code",
      "source": [
        "float(123)\n"
      ],
      "execution_count": 0,
      "outputs": [
        {
          "output_type": "execute_result",
          "data": {
            "text/plain": [
              "123.0"
            ]
          },
          "metadata": {
            "tags": []
          },
          "execution_count": 15
        }
      ]
    },
    {
      "metadata": {
        "id": "LLRJ6SwtFkfk",
        "colab_type": "code",
        "outputId": "111c5158-4d13-401f-db98-8fcba3d32e19",
        "colab": {
          "base_uri": "https://localhost:8080/",
          "height": 34
        }
      },
      "cell_type": "code",
      "source": [
        "float('123')\n"
      ],
      "execution_count": 0,
      "outputs": [
        {
          "output_type": "execute_result",
          "data": {
            "text/plain": [
              "123.0"
            ]
          },
          "metadata": {
            "tags": []
          },
          "execution_count": 16
        }
      ]
    },
    {
      "metadata": {
        "id": "drpNSTA6FwE2",
        "colab_type": "code",
        "outputId": "87f1df99-9f1d-4142-fb03-6bf70507c00d",
        "colab": {
          "base_uri": "https://localhost:8080/",
          "height": 34
        }
      },
      "cell_type": "code",
      "source": [
        "float('123.23')\n"
      ],
      "execution_count": 0,
      "outputs": [
        {
          "output_type": "execute_result",
          "data": {
            "text/plain": [
              "123.23"
            ]
          },
          "metadata": {
            "tags": []
          },
          "execution_count": 17
        }
      ]
    },
    {
      "metadata": {
        "id": "v0HZmncRF9f_",
        "colab_type": "code",
        "outputId": "e0b00ac8-6f89-47f8-b4c2-2c95a2396c05",
        "colab": {
          "base_uri": "https://localhost:8080/",
          "height": 34
        }
      },
      "cell_type": "code",
      "source": [
        "int(123.23)\n"
      ],
      "execution_count": 0,
      "outputs": [
        {
          "output_type": "execute_result",
          "data": {
            "text/plain": [
              "123"
            ]
          },
          "metadata": {
            "tags": []
          },
          "execution_count": 18
        }
      ]
    },
    {
      "metadata": {
        "id": "JblqCf6rGHV9",
        "colab_type": "code",
        "outputId": "1619e4c8-1a4d-40ea-b711-a720b4489024",
        "colab": {
          "base_uri": "https://localhost:8080/",
          "height": 162
        }
      },
      "cell_type": "code",
      "source": [
        "int('123.23')\n"
      ],
      "execution_count": 0,
      "outputs": [
        {
          "output_type": "error",
          "ename": "ValueError",
          "evalue": "ignored",
          "traceback": [
            "\u001b[0;31m---------------------------------------------------------------------------\u001b[0m",
            "\u001b[0;31mValueError\u001b[0m                                Traceback (most recent call last)",
            "\u001b[0;32m<ipython-input-19-a052266f23da>\u001b[0m in \u001b[0;36m<module>\u001b[0;34m()\u001b[0m\n\u001b[0;32m----> 1\u001b[0;31m \u001b[0mint\u001b[0m\u001b[0;34m(\u001b[0m\u001b[0;34m'123.23'\u001b[0m\u001b[0;34m)\u001b[0m\u001b[0;34m\u001b[0m\u001b[0;34m\u001b[0m\u001b[0m\n\u001b[0m",
            "\u001b[0;31mValueError\u001b[0m: invalid literal for int() with base 10: '123.23'"
          ]
        }
      ]
    },
    {
      "metadata": {
        "id": "XgIGxehSGT9W",
        "colab_type": "code",
        "outputId": "9c41a59c-f56f-4c51-c207-097cecf29569",
        "colab": {
          "base_uri": "https://localhost:8080/",
          "height": 34
        }
      },
      "cell_type": "code",
      "source": [
        "int(float(123.23))\n",
        "\n"
      ],
      "execution_count": 0,
      "outputs": [
        {
          "output_type": "execute_result",
          "data": {
            "text/plain": [
              "123"
            ]
          },
          "metadata": {
            "tags": []
          },
          "execution_count": 20
        }
      ]
    },
    {
      "metadata": {
        "id": "7NO2hEEHGhbg",
        "colab_type": "code",
        "outputId": "3152b7fa-8fc6-4846-c936-6b42d81cf35b",
        "colab": {
          "base_uri": "https://localhost:8080/",
          "height": 34
        }
      },
      "cell_type": "code",
      "source": [
        "str(12)"
      ],
      "execution_count": 0,
      "outputs": [
        {
          "output_type": "execute_result",
          "data": {
            "text/plain": [
              "'12'"
            ]
          },
          "metadata": {
            "tags": []
          },
          "execution_count": 21
        }
      ]
    },
    {
      "metadata": {
        "id": "gIuBAoDPGtwO",
        "colab_type": "code",
        "outputId": "84b33b5e-007b-41fe-df51-94a6f5a0da57",
        "colab": {
          "base_uri": "https://localhost:8080/",
          "height": 34
        }
      },
      "cell_type": "code",
      "source": [
        "str(12.2)"
      ],
      "execution_count": 0,
      "outputs": [
        {
          "output_type": "execute_result",
          "data": {
            "text/plain": [
              "'12.2'"
            ]
          },
          "metadata": {
            "tags": []
          },
          "execution_count": 22
        }
      ]
    },
    {
      "metadata": {
        "id": "jaW7df5uG5Kp",
        "colab_type": "code",
        "outputId": "d198b803-8aae-4230-8fbd-e8a6dd8a57b1",
        "colab": {
          "base_uri": "https://localhost:8080/",
          "height": 34
        }
      },
      "cell_type": "code",
      "source": [
        "bool('a')"
      ],
      "execution_count": 0,
      "outputs": [
        {
          "output_type": "execute_result",
          "data": {
            "text/plain": [
              "True"
            ]
          },
          "metadata": {
            "tags": []
          },
          "execution_count": 23
        }
      ]
    },
    {
      "metadata": {
        "id": "p17oeF27HASp",
        "colab_type": "code",
        "outputId": "b27702d5-fd0b-44de-8799-a8265b0c0596",
        "colab": {
          "base_uri": "https://localhost:8080/",
          "height": 34
        }
      },
      "cell_type": "code",
      "source": [
        "bool(0)"
      ],
      "execution_count": 0,
      "outputs": [
        {
          "output_type": "execute_result",
          "data": {
            "text/plain": [
              "False"
            ]
          },
          "metadata": {
            "tags": []
          },
          "execution_count": 24
        }
      ]
    },
    {
      "metadata": {
        "id": "tTJgKoqtHFLz",
        "colab_type": "code",
        "outputId": "443acaa5-f45c-459f-ccf5-05661ed06eab",
        "colab": {
          "base_uri": "https://localhost:8080/",
          "height": 34
        }
      },
      "cell_type": "code",
      "source": [
        "bool(0.1)"
      ],
      "execution_count": 0,
      "outputs": [
        {
          "output_type": "execute_result",
          "data": {
            "text/plain": [
              "True"
            ]
          },
          "metadata": {
            "tags": []
          },
          "execution_count": 25
        }
      ]
    },
    {
      "metadata": {
        "id": "ao-lUUB_LQQm",
        "colab_type": "text"
      },
      "cell_type": "markdown",
      "source": [
        "# Exercise 4"
      ]
    },
    {
      "metadata": {
        "id": "5cTc3-uOHKXB",
        "colab_type": "code",
        "outputId": "84ca6cd8-8490-46fe-c23f-d40f325fa538",
        "colab": {
          "base_uri": "https://localhost:8080/",
          "height": 34
        }
      },
      "cell_type": "code",
      "source": [
        "range(5)"
      ],
      "execution_count": 0,
      "outputs": [
        {
          "output_type": "execute_result",
          "data": {
            "text/plain": [
              "range(0, 5)"
            ]
          },
          "metadata": {
            "tags": []
          },
          "execution_count": 26
        }
      ]
    },
    {
      "metadata": {
        "id": "6d997iVSHTWt",
        "colab_type": "code",
        "outputId": "2e81e323-1308-4b0b-882f-5f78a96f9482",
        "colab": {
          "base_uri": "https://localhost:8080/",
          "height": 34
        }
      },
      "cell_type": "code",
      "source": [
        "type(range(5))"
      ],
      "execution_count": 0,
      "outputs": [
        {
          "output_type": "execute_result",
          "data": {
            "text/plain": [
              "range"
            ]
          },
          "metadata": {
            "tags": []
          },
          "execution_count": 28
        }
      ]
    },
    {
      "metadata": {
        "id": "MM6_HSg7KzVs",
        "colab_type": "text"
      },
      "cell_type": "markdown",
      "source": [
        "# Exercise 5"
      ]
    },
    {
      "metadata": {
        "id": "4lwrkHv6H7pv",
        "colab_type": "code",
        "outputId": "e86073c6-3a9a-4f71-92e4-1c868b1903b3",
        "colab": {
          "base_uri": "https://localhost:8080/",
          "height": 357
        }
      },
      "cell_type": "code",
      "source": [
        "found = 0\n",
        "x = 11\n",
        "while found < 20:\n",
        "  if x%5 == 0 and x%7 == 0 and x%11 == 0:\n",
        "    print(x)\n",
        "    found = found+1\n",
        "  x = x+1"
      ],
      "execution_count": 2,
      "outputs": [
        {
          "output_type": "stream",
          "text": [
            "385\n",
            "770\n",
            "1155\n",
            "1540\n",
            "1925\n",
            "2310\n",
            "2695\n",
            "3080\n",
            "3465\n",
            "3850\n",
            "4235\n",
            "4620\n",
            "5005\n",
            "5390\n",
            "5775\n",
            "6160\n",
            "6545\n",
            "6930\n",
            "7315\n",
            "7700\n"
          ],
          "name": "stdout"
        }
      ]
    },
    {
      "metadata": {
        "id": "i4WOJ_W0KqmF",
        "colab_type": "text"
      },
      "cell_type": "markdown",
      "source": [
        "# Exercise 6"
      ]
    },
    {
      "metadata": {
        "id": "eYCF2UejISGm",
        "colab_type": "code",
        "outputId": "77b03337-3b84-4bfe-e4a6-61872021a68c",
        "colab": {
          "base_uri": "https://localhost:8080/",
          "height": 34
        }
      },
      "cell_type": "code",
      "source": [
        "def is_Prime(num):\n",
        "  if num > 1:\n",
        "\n",
        "    for i in range(2,num):\n",
        "      if (num % i) == 0:\n",
        "        #print(num,\"is not a prime number\")\n",
        "        #print(i,\"times\",num//i,\"is\",num)\n",
        "        \n",
        "        break\n",
        "      else:\n",
        "        print(\"True\")\n",
        "        return True\n",
        "        break \n",
        "isPrime(17)"
      ],
      "execution_count": 35,
      "outputs": [
        {
          "output_type": "stream",
          "text": [
            "True\n"
          ],
          "name": "stdout"
        }
      ]
    },
    {
      "metadata": {
        "id": "cOmr0PW5KT5D",
        "colab_type": "code",
        "outputId": "e3a2ecd8-04f1-41b1-8dd2-257c9128530a",
        "colab": {
          "base_uri": "https://localhost:8080/",
          "height": 34
        }
      },
      "cell_type": "code",
      "source": [
        "def is_Prime(num):\n",
        "  if num == 2 or num == 3:\n",
        "    print(\"Ture\")\n",
        "    return True\n",
        "  else:\n",
        "    if (num % 6 == 1) or (num % 6 == 5):\n",
        "      print(\"True\")\n",
        "      return True\n",
        "isPrime(17)"
      ],
      "execution_count": 45,
      "outputs": [
        {
          "output_type": "stream",
          "text": [
            "True\n"
          ],
          "name": "stdout"
        }
      ]
    },
    {
      "metadata": {
        "id": "ggHa75BsMF-g",
        "colab_type": "code",
        "colab": {}
      },
      "cell_type": "code",
      "source": [
        "def allprimes(num):\n",
        "    a = []\n",
        "    for i in range(num):\n",
        "        if(is_prime(i)):\n",
        "          a.append(i)\n",
        "    return a"
      ],
      "execution_count": 0,
      "outputs": []
    },
    {
      "metadata": {
        "id": "Mq9KoJqZMydu",
        "colab_type": "code",
        "colab": {}
      },
      "cell_type": "code",
      "source": [
        "def firstprimes(n):\n",
        "    if n <= 0:\n",
        "        return []\n",
        "    elif n is 1:\n",
        "        return [2]\n",
        "    elif n is 2: \n",
        "        return [2, 3]\n",
        "    else: \n",
        "        x = 2\n",
        "        a = [2, 3]\n",
        "        y = 5\n",
        "        while x < n:\n",
        "            if(is_prime(y)):\n",
        "                a.append(y)\n",
        "                x += 1\n",
        "            y += 2\n",
        "        return a"
      ],
      "execution_count": 0,
      "outputs": []
    },
    {
      "metadata": {
        "id": "VDa9b6HHOTuW",
        "colab_type": "text"
      },
      "cell_type": "markdown",
      "source": [
        "# Exercise 7"
      ]
    },
    {
      "metadata": {
        "id": "1E0qsRmtOZVW",
        "colab_type": "code",
        "outputId": "3964dada-88aa-4660-e4ac-49b3f5389eb0",
        "colab": {
          "base_uri": "https://localhost:8080/",
          "height": 34
        }
      },
      "cell_type": "code",
      "source": [
        "def my_list(a):\n",
        "    str = \"\"\n",
        "    for each in a:\n",
        "        str = str + \"%d\" % each\n",
        "    print(str)\n",
        "\n",
        "    \n",
        "my_list([1,2,3])"
      ],
      "execution_count": 24,
      "outputs": [
        {
          "output_type": "stream",
          "text": [
            "123\n"
          ],
          "name": "stdout"
        }
      ]
    },
    {
      "metadata": {
        "id": "Ajfzapv2PATS",
        "colab_type": "code",
        "outputId": "169485ec-a2d3-43ca-ab8a-b430d8c9cc47",
        "colab": {
          "base_uri": "https://localhost:8080/",
          "height": 34
        }
      },
      "cell_type": "code",
      "source": [
        "def reverse_list(a):\n",
        "    str = \"\"\n",
        "    for each in a[::-1]:\n",
        "        str = str + \"%d \" % each\n",
        "    print(str)\n",
        "\n",
        "    \n",
        "reverse_list([1,2,3])"
      ],
      "execution_count": 26,
      "outputs": [
        {
          "output_type": "stream",
          "text": [
            "3 2 1 \n"
          ],
          "name": "stdout"
        }
      ]
    },
    {
      "metadata": {
        "id": "Sm_P9LXLPsmW",
        "colab_type": "code",
        "outputId": "0938cfea-11be-4773-98ee-8871f8ed9c8f",
        "colab": {
          "base_uri": "https://localhost:8080/",
          "height": 34
        }
      },
      "cell_type": "code",
      "source": [
        "list_length = [1,2,3]\n",
        "\n",
        "print(len(list_length))"
      ],
      "execution_count": 27,
      "outputs": [
        {
          "output_type": "stream",
          "text": [
            "3\n"
          ],
          "name": "stdout"
        }
      ]
    },
    {
      "metadata": {
        "id": "HZUjdUyeRPOW",
        "colab_type": "text"
      },
      "cell_type": "markdown",
      "source": [
        "# Exercise 8"
      ]
    },
    {
      "metadata": {
        "id": "JM4tjM9NQYLb",
        "colab_type": "code",
        "outputId": "ecbe1fa8-c7ea-44e2-9e8e-007d6799000f",
        "colab": {
          "base_uri": "https://localhost:8080/",
          "height": 51
        }
      },
      "cell_type": "code",
      "source": [
        "a = [1,2,3,4]\n",
        "b = a\n",
        "b[1] = 5\n",
        "print(a[1])\n",
        "c = a[:]\n",
        "c[2] = 6\n",
        "print(a)"
      ],
      "execution_count": 29,
      "outputs": [
        {
          "output_type": "stream",
          "text": [
            "5\n",
            "[1, 5, 3, 4]\n"
          ],
          "name": "stdout"
        }
      ]
    },
    {
      "metadata": {
        "id": "zmmqb-I2Rrdn",
        "colab_type": "code",
        "outputId": "2eb1bba7-dff2-4247-9198-95e097d87770",
        "colab": {
          "base_uri": "https://localhost:8080/",
          "height": 34
        }
      },
      "cell_type": "code",
      "source": [
        "def set_first_elem_to_zero(l):\n",
        "    l[0] = 0\n",
        "    return l\n",
        "set_first_elem_to_zero(a)\n",
        "\n",
        "print(a)"
      ],
      "execution_count": 30,
      "outputs": [
        {
          "output_type": "stream",
          "text": [
            "[0, 5, 3, 4]\n"
          ],
          "name": "stdout"
        }
      ]
    },
    {
      "metadata": {
        "id": "qOWJQkg4S3Mc",
        "colab_type": "text"
      },
      "cell_type": "markdown",
      "source": [
        "# Exercise 9"
      ]
    },
    {
      "metadata": {
        "id": "SOtxiBJhSmKB",
        "colab_type": "code",
        "outputId": "55492c52-7b49-49e2-ec52-f73a808d049c",
        "colab": {
          "base_uri": "https://localhost:8080/",
          "height": 34
        }
      },
      "cell_type": "code",
      "source": [
        "def concatenate(a):\n",
        "    list = []\n",
        "    for each in a:\n",
        "        list += each\n",
        "    return list\n",
        "  \n",
        "print(concatenate([[1, 2],[3, 4]]))\n",
        "  "
      ],
      "execution_count": 31,
      "outputs": [
        {
          "output_type": "stream",
          "text": [
            "[1, 2, 3, 4]\n"
          ],
          "name": "stdout"
        }
      ]
    },
    {
      "metadata": {
        "id": "GQHHCabwTocg",
        "colab_type": "text"
      },
      "cell_type": "markdown",
      "source": [
        "# Exercise 10"
      ]
    },
    {
      "metadata": {
        "id": "e4L2lN48Te2I",
        "colab_type": "code",
        "outputId": "b757babe-e341-4592-de45-7b8aacdf22f0",
        "colab": {
          "base_uri": "https://localhost:8080/",
          "height": 376
        }
      },
      "cell_type": "code",
      "source": [
        "import matplotlib.pyplot as plt\n",
        "import numpy as np\n",
        "\n",
        "def f(x):\n",
        "  return(np.sin(x-2)**2)*(np.e**(-x**2))\n",
        "\n",
        "x = np.arange(0.0, 2.0, 0.01)\n",
        "y = f(x)\n",
        "\n",
        "plt.plot(x,y)\n",
        "plt.xlabel('x-axis')\n",
        "plt.ylabel('y-axis')\n",
        "plt.title(\"f(x)= sin^2(x-2) * e^-x^-2\")\n",
        "plt.grid(True)\n",
        "plt.show()\n"
      ],
      "execution_count": 0,
      "outputs": [
        {
          "output_type": "display_data",
          "data": {
            "image/png": "[encoded data removed]",
            "text/plain": [
              "<matplotlib.figure.Figure at 0x7f155a4e75c0>"
            ]
          },
          "metadata": {
            "tags": []
          }
        }
      ]
    },
    {
      "metadata": {
        "id": "ttMNBECgXwQc",
        "colab_type": "text"
      },
      "cell_type": "markdown",
      "source": [
        "# Exercise 11"
      ]
    },
    {
      "metadata": {
        "id": "06nfSFTNXB77",
        "colab_type": "code",
        "outputId": "abf7c9ec-2447-474b-9435-395f006400c3",
        "colab": {
          "base_uri": "https://localhost:8080/",
          "height": 34
        }
      },
      "cell_type": "code",
      "source": [
        "def interation(a):\n",
        "    b = 1\n",
        "    for each in a:\n",
        "        b *= each\n",
        "    return b\n",
        "  \n",
        "print(interation([1,2,3]))"
      ],
      "execution_count": 32,
      "outputs": [
        {
          "output_type": "stream",
          "text": [
            "6\n"
          ],
          "name": "stdout"
        }
      ]
    },
    {
      "metadata": {
        "id": "JqbJm4UCYjNd",
        "colab_type": "code",
        "outputId": "24542f2d-07b1-4455-ac28-28b947d0e437",
        "colab": {
          "base_uri": "https://localhost:8080/",
          "height": 34
        }
      },
      "cell_type": "code",
      "source": [
        "def recursion(a):\n",
        "    if(len(a) == 1):\n",
        "        return a[0]\n",
        "    else:\n",
        "        return a[0]*recursion(a[1:])\n",
        "      \n",
        "print(recursion([1,2,3]))"
      ],
      "execution_count": 33,
      "outputs": [
        {
          "output_type": "stream",
          "text": [
            "6\n"
          ],
          "name": "stdout"
        }
      ]
    },
    {
      "metadata": {
        "id": "_IobcmKVY9iG",
        "colab_type": "text"
      },
      "cell_type": "markdown",
      "source": [
        "# Exercise 12"
      ]
    },
    {
      "metadata": {
        "id": "EloiQiZPY6eu",
        "colab_type": "code",
        "outputId": "416d8287-7d83-49f8-f18e-c245cbf59e98",
        "colab": {
          "base_uri": "https://localhost:8080/",
          "height": 34
        }
      },
      "cell_type": "code",
      "source": [
        "def fib(n):\n",
        "    if(n == 0):\n",
        "        return 0\n",
        "    elif(n == 1):\n",
        "        return 1\n",
        "    else:\n",
        "        return fib(n - 1) + fib(n - 2)\n",
        "      \n",
        "print(fib(5))"
      ],
      "execution_count": 34,
      "outputs": [
        {
          "output_type": "stream",
          "text": [
            "5\n"
          ],
          "name": "stdout"
        }
      ]
    },
    {
      "metadata": {
        "id": "LMHDv3fnZduq",
        "colab_type": "text"
      },
      "cell_type": "markdown",
      "source": [
        "# Exercise 13"
      ]
    },
    {
      "metadata": {
        "id": "U_p_Jly7ZV3X",
        "colab_type": "code",
        "colab": {}
      },
      "cell_type": "code",
      "source": [
        "import re\n",
        "\n",
        "file = open('emails.txt', 'r')\n",
        "file = file.read()\n",
        "\n",
        "email = re.findall(r'([^ ]+[@][^ ]+[.][a-z]+)', file)\n",
        "print(emails)\n",
        "\n"
      ],
      "execution_count": 0,
      "outputs": []
    }
  ]
}